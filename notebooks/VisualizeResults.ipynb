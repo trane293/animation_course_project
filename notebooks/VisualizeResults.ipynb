{
 "cells": [
  {
   "cell_type": "code",
   "execution_count": null,
   "metadata": {},
   "outputs": [],
   "source": [
    "import json\n",
    "from pprint import pprint\n",
    "import matplotlib.pyplot as plt\n",
    "import os, glob\n",
    "plt.style.use('ggplot')"
   ]
  },
  {
   "cell_type": "code",
   "execution_count": null,
   "metadata": {},
   "outputs": [],
   "source": [
    "exp_names = {\n",
    "    'exp_3': 'HalfCheetah-v2',\n",
    "    'exp_4': 'Walker2d-v2',\n",
    "    'exp_5': 'Hopper-v2' \n",
    "}\n",
    "\n",
    "def apply_function_sliding_window(Y, windowsize, func):\n",
    "    final_list = []\n",
    "    # pad the input array\n",
    "    Y = np.pad(Y, pad_width=int(windowsize/2), mode='edge')\n",
    "    \n",
    "    for i in range(0, len(Y)-(windowsize)):\n",
    "        final_list.append(func(Y[i:i+windowsize]))\n",
    "        \n",
    "    return final_list\n",
    "\n",
    "def showViz(filepath, exp):\n",
    "    data_PPO = json.load(open(filepath))\n",
    "    plt.plot(data_PPO['episode_rewards'])\n",
    "    agent_name = filepath.split('/')[2]\n",
    "    plt.title('{} : {}'.format(agent_name, exp_names[exp]))\n",
    "    plt.show()\n",
    "    \n",
    "def compareExp(exp):\n",
    "    filepath_PPO = glob.glob(os.path.join('../logs/PPO/', exp) + '/*episode*')[0]\n",
    "    filepath_TRPO = glob.glob(os.path.join('../logs/TRPO/', exp) + '/*episode*')[0]\n",
    "    filepath_VPG = glob.glob(os.path.join('../logs/VPG/', exp) + '/*episode*')[0]\n",
    "    \n",
    "    showViz(filepath_PPO, exp)\n",
    "    showViz(filepath_TRPO, exp)\n",
    "    showViz(filepath_VPG, exp)\n",
    "    \n",
    "def compareAll(mode='seperate'):\n",
    "    lgpath = '../logs/'\n",
    "    agent_names = ['PPO', 'TRPO', 'VPG']\n",
    "    exp_names = {\n",
    "        'exp_3': 'HalfCheetah-v2',\n",
    "        'exp_4': 'Walker2d-v2',\n",
    "        'exp_5': 'Hopper-v2' \n",
    "    }\n",
    "    if mode == 'seperate':\n",
    "        fig, ax = plt.subplots(nrows=3, ncols=3, squeeze=False, figsize=(20,20))\n",
    "\n",
    "        for row, agent in zip(ax, agent_names):\n",
    "            for idx, exp in enumerate(exp_names):\n",
    "                # get the row, each row will have the same agent but different envs\n",
    "                filepath = glob.glob(os.path.join(lgpath, agent, exp) + '/*episode*')[0]\n",
    "                data = json.load(open(filepath))\n",
    "                Y = apply_function_sliding_window(data['episode_rewards'], 50, np.mean)\n",
    "                row[idx].plot(Y)\n",
    "                row[idx].set_title('{} : {}'.format(agent, exp_names[exp]))\n",
    "                row[idx].set_xlabel('Episodes')\n",
    "                row[idx].set_ylabel('Reward')\n",
    "\n",
    "        plt.savefig('./comparison.png')\n",
    "        plt.show()\n",
    "    else:\n",
    "        fig, ax = plt.subplots(nrows=1, ncols=3, squeeze=True, figsize=(25,8))  \n",
    "\n",
    "        for idx, (row, exp) in enumerate(zip(ax, exp_names)):\n",
    "            for agent in agent_names:\n",
    "                # get the row, each row will have the same agent but different envs\n",
    "                filepath = glob.glob(os.path.join(lgpath, agent, exp) + '/*episode*')[0]\n",
    "                data = json.load(open(filepath))\n",
    "                Y = apply_function_sliding_window(data['episode_rewards'], 50, np.mean)\n",
    "\n",
    "                row.plot(Y, label='{}'.format(agent))\n",
    "        #                 row[0].set_title('{} : {}'.format(agent, exp_names[exp]))\n",
    "                row.set_xlabel('Episodes')\n",
    "                row.set_ylabel('Reward')\n",
    "                row.set_title(exp_names[exp])\n",
    "                row.legend()\n",
    "                \n",
    "        plt.suptitle('Comparison for different environments')\n",
    "        plt.savefig('./comparison_combined.pdf')\n",
    "        plt.show()"
   ]
  },
  {
   "cell_type": "code",
   "execution_count": null,
   "metadata": {},
   "outputs": [],
   "source": [
    "compareAll(mode=None)"
   ]
  },
  {
   "cell_type": "code",
   "execution_count": null,
   "metadata": {},
   "outputs": [],
   "source": []
  }
 ],
 "metadata": {
  "kernelspec": {
   "display_name": "Python 3",
   "language": "python",
   "name": "python3"
  },
  "language_info": {
   "codemirror_mode": {
    "name": "ipython",
    "version": 3
   },
   "file_extension": ".py",
   "mimetype": "text/x-python",
   "name": "python",
   "nbconvert_exporter": "python",
   "pygments_lexer": "ipython3",
   "version": "3.5.2"
  }
 },
 "nbformat": 4,
 "nbformat_minor": 2
}
